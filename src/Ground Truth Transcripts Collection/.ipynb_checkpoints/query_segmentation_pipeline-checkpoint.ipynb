{
 "cells": [
  {
   "cell_type": "markdown",
   "id": "8cbff562-6fe7-4b86-9449-18a6417e09a3",
   "metadata": {},
   "source": [
    "# File Query and Audio Segmentization #\n",
    "\n",
    "### Pipeline processed most recently: Mar 07, 2024 ###\n",
    "\n",
    "**_All data collected from TalkBank's AphasiaBank under permission. Data are not public._**\n",
    "\n",
    "Input audio are remotely located in `'Aphasia_audio/'` and `'Control_audio/'`.\n",
    "\n",
    "Output audio are remotely located in `'Aphasia_segment/'` and `'Control_segment/'`.\n",
    "\n",
    "Output data are located in `'../../data/'`.\n",
    "\n",
    "---"
   ]
  },
  {
   "cell_type": "code",
   "execution_count": 1,
   "id": "df6bb093-3ad2-4791-8de6-39d4197835c1",
   "metadata": {},
   "outputs": [
    {
     "name": "stdout",
     "output_type": "stream",
     "text": [
      "2024-03-07\n"
     ]
    }
   ],
   "source": [
    "import os\n",
    "import pandas as pd\n",
    "import re\n",
    "from datetime import datetime\n",
    "\n",
    "current_date = datetime.now().strftime('%Y-%m-%d')\n",
    "print(current_date)"
   ]
  },
  {
   "cell_type": "markdown",
   "id": "5256ac65-cf7b-4850-9d94-7074641e54dd",
   "metadata": {},
   "source": [
    "## 4. See distribution of `word_count` and decide on a query. ##\n",
    "\n",
    "All process will be done on `clean_v2`, where phonological fragments are left in but fillers are removed.\n",
    "\n",
    "## 4-1. Drop snippets with `UNK`. ##"
   ]
  },
  {
   "cell_type": "code",
   "execution_count": 10,
   "id": "f2b507c8-3b85-4d56-9ebd-0f7f8ff7753f",
   "metadata": {},
   "outputs": [],
   "source": [
    "# drop rows with 'UNK'\n",
    "aphasia_all = pd.read_csv(f\"../../data/Old data/aphasia_concat_fix_{current_date}.csv\")\n",
    "control_all = pd.read_csv(f\"../../data/Old data/control_concat_fix_{current_date}.csv\")\n",
    "\n",
    "aphasia_all['clean_v2'] = aphasia_all['clean_v2'].fillna('')\n",
    "control_all['clean_v2'] = control_all['clean_v2'].fillna('')\n",
    "\n",
    "# standardize whitespace\n",
    "aphasia_all['clean_v2'] = aphasia_all['clean_v2'].apply(lambda text: re.sub(\"\\s+\", \" \", text.strip()))\n",
    "control_all['clean_v2'] = control_all['clean_v2'].apply(lambda text: re.sub(\"\\s+\", \" \", text.strip()))\n",
    "\n",
    "aphasia_all = aphasia_all[~aphasia_all['clean_v2'].str.contains('UNK')]\n",
    "control_all = control_all[~control_all['clean_v2'].str.contains('UNK')]\n",
    "\n",
    "aphasia_all.to_csv(f\"../../data/Old data/aphasia_nounk_{current_date}.csv\", index=False)\n",
    "control_all.to_csv(f\"../../data/Old data/control_nounk_{current_date}.csv\", index=False)"
   ]
  },
  {
   "cell_type": "code",
   "execution_count": 3,
   "id": "561b9859-9d0b-4f17-8be8-6ba0a3c397f2",
   "metadata": {},
   "outputs": [
    {
     "name": "stdout",
     "output_type": "stream",
     "text": [
      "Total number of unique aphasia interviews: 548\n",
      "Total number of unique control interviews: 347\n",
      "Total number of aphasia snippets: 19115\n",
      "Total number of control snippets: 5162\n"
     ]
    }
   ],
   "source": [
    "aphasia_all = pd.read_csv(f'../../data/Old data/aphasia_nounk_{current_date}.csv')\n",
    "control_all = pd.read_csv(f'../../data/Old data/control_nounk_{current_date}.csv')\n",
    "\n",
    "unique_aphasia_filenames = aphasia_all['filename'].nunique()\n",
    "unique_control_filenames = control_all['filename'].nunique()\n",
    "\n",
    "total_aphasia_snippets = aphasia_all.shape[0]\n",
    "total_control_snippets = control_all.shape[0]\n",
    "\n",
    "print(f\"Total number of unique aphasia interviews: {unique_aphasia_filenames}\")\n",
    "print(f\"Total number of unique control interviews: {unique_control_filenames}\")\n",
    "\n",
    "print(f\"Total number of aphasia snippets: {total_aphasia_snippets}\")\n",
    "print(f\"Total number of control snippets: {total_control_snippets}\")"
   ]
  },
  {
   "cell_type": "markdown",
   "id": "dcd2265b-a7f3-42ea-af77-64d6ed26890f",
   "metadata": {},
   "source": [
    "## 4-2. Drop snippets with `word_count` less than 4. ##\n",
    "\n",
    "`kurland15a.cha`, `kurland15b.cha`, `kurland15c.cha`, `kurland15e.cha`, `MMA10a.cha` are left with no snippets after the two query. "
   ]
  },
  {
   "cell_type": "code",
   "execution_count": 11,
   "id": "9259d7ae-6879-4a96-b8a4-481787edb082",
   "metadata": {},
   "outputs": [],
   "source": [
    "aphasia_all['clean_v2'] = aphasia_all['clean_v2'].fillna('')\n",
    "control_all['clean_v2'] = control_all['clean_v2'].fillna('')\n",
    "\n",
    "aphasia_all['word_count_v2'] = aphasia_all['clean_v2'].apply(lambda x: len(x.split()))\n",
    "control_all['word_count_v2'] = control_all['clean_v2'].apply(lambda x: len(x.split()))\n",
    "\n",
    "aphasia_filtered = aphasia_all[aphasia_all['word_count_v2'] > 3]\n",
    "control_filtered = control_all[control_all['word_count_v2'] > 3]\n",
    "\n",
    "aphasia_filtered.to_csv(f\"../../data/Ground_Truth_Transcript/aphasia_nounk_over3_{current_date}.csv\", index=False)\n",
    "control_filtered.to_csv(f\"../../data/Ground_Truth_Transcript/control_nounk_over3_{current_date}.csv\", index=False)"
   ]
  },
  {
   "cell_type": "code",
   "execution_count": 5,
   "id": "44e9bfc8-6446-4e70-9f37-a2e56226bc05",
   "metadata": {},
   "outputs": [
    {
     "name": "stdout",
     "output_type": "stream",
     "text": [
      "Total number of unique aphasia interviews: 544\n",
      "Total number of unique control interviews: 347\n",
      "Total number of aphasia snippets: 9664\n",
      "Total number of control snippets: 4302\n"
     ]
    }
   ],
   "source": [
    "aphasia_filtered = pd.read_csv(f'../../data/aphasia_nounk_over3_{current_date}.csv')\n",
    "control_filtered = pd.read_csv(f'../../data/control_nounk_over3_{current_date}.csv')\n",
    "\n",
    "unique_aphasia_filenames = aphasia_filtered['filename'].nunique()\n",
    "unique_control_filenames = control_filtered['filename'].nunique()\n",
    "\n",
    "total_aphasia_snippets = aphasia_filtered.shape[0]\n",
    "total_control_snippets = control_filtered.shape[0]\n",
    "\n",
    "print(f\"Total number of unique aphasia interviews: {unique_aphasia_filenames}\")\n",
    "print(f\"Total number of unique control interviews: {unique_control_filenames}\")\n",
    "\n",
    "print(f\"Total number of aphasia snippets: {total_aphasia_snippets}\")\n",
    "print(f\"Total number of control snippets: {total_control_snippets}\")"
   ]
  },
  {
   "cell_type": "markdown",
   "id": "7beb3645-7f57-458e-be93-398d11189eb1",
   "metadata": {},
   "source": [
    "## 4-3. Drop file with no audio. ##\n",
    "\n",
    "`MMA20a.cha` is an interview file without any audio available. Drop this interview."
   ]
  },
  {
   "cell_type": "code",
   "execution_count": 12,
   "id": "663ee1b1-d6b1-49fd-9ee1-8fbfe35ded7f",
   "metadata": {},
   "outputs": [],
   "source": [
    "aphasia_filtered = pd.read_csv(f\"../../data/Ground_Truth_Transcript/aphasia_nounk_over3_{current_date}.csv\")\n",
    "\n",
    "# filter out MMA20a.cha\n",
    "aphasia_filtered = aphasia_filtered[aphasia_filtered['filename'] != 'MMA20a.cha']\n",
    "\n",
    "aphasia_filtered.to_csv(f\"../../data/Ground_Truth_Transcript/aphasia_nounk_over3_{current_date}.csv\", index=False)"
   ]
  },
  {
   "cell_type": "code",
   "execution_count": 7,
   "id": "1091ccbe-5b94-4bdb-9f54-e1fff3bbc46a",
   "metadata": {},
   "outputs": [
    {
     "name": "stdout",
     "output_type": "stream",
     "text": [
      "Total number of unique aphasia interviews: 543\n",
      "Total number of unique control interviews: 347\n",
      "Total number of aphasia snippets: 9648\n",
      "Total number of control snippets: 4302\n"
     ]
    }
   ],
   "source": [
    "aphasia_filtered = pd.read_csv(f'../../data/aphasia_nounk_over3_{current_date}.csv')\n",
    "control_filtered = pd.read_csv(f'../../data/control_nounk_over3_{current_date}.csv')\n",
    "\n",
    "unique_aphasia_filenames = aphasia_filtered['filename'].nunique()\n",
    "unique_control_filenames = control_filtered['filename'].nunique()\n",
    "\n",
    "total_aphasia_snippets = aphasia_filtered.shape[0]\n",
    "total_control_snippets = control_filtered.shape[0]\n",
    "\n",
    "print(f\"Total number of unique aphasia interviews: {unique_aphasia_filenames}\")\n",
    "print(f\"Total number of unique control interviews: {unique_control_filenames}\")\n",
    "\n",
    "print(f\"Total number of aphasia snippets: {total_aphasia_snippets}\")\n",
    "print(f\"Total number of control snippets: {total_control_snippets}\")"
   ]
  },
  {
   "cell_type": "markdown",
   "id": "c6d4ba76-1b93-4b5e-ba93-cde1dc606af1",
   "metadata": {},
   "source": [
    "---\n",
    "\n",
    "## 5. Check for `duration` duration. ##"
   ]
  },
  {
   "cell_type": "code",
   "execution_count": 8,
   "id": "55f8acf7-03d8-4d97-a51b-3bd89aa899ee",
   "metadata": {},
   "outputs": [
    {
     "name": "stdout",
     "output_type": "stream",
     "text": [
      "Aphasia: 1345 rows with duration < 2\n",
      "Control: 568 rows with duration < 2\n"
     ]
    }
   ],
   "source": [
    "aphasia_filtered = pd.read_csv(f'../../data/aphasia_nounk_over3_{current_date}.csv')\n",
    "control_filtered = pd.read_csv(f'../../data/control_nounk_over3_{current_date}.csv')\n",
    "\n",
    "aphasia_filtered['duration'] = aphasia_filtered['end_time'] - aphasia_filtered['start_time']\n",
    "control_filtered['duration'] = control_filtered['end_time'] - control_filtered['start_time']\n",
    "\n",
    "aphasia_filtered_short = aphasia_filtered[aphasia_filtered['duration'] < 2000]\n",
    "control_filtered_short = control_filtered[control_filtered['duration'] < 2000]\n",
    "\n",
    "# Counting the number of rows where duration < 2\n",
    "count_aphasia_short = len(aphasia_filtered_short)\n",
    "count_control_short = len(control_filtered_short)\n",
    "\n",
    "# Displaying the results\n",
    "print(f\"Aphasia: {count_aphasia_short} rows with duration < 2\")\n",
    "print(f\"Control: {count_control_short} rows with duration < 2\")\n",
    "\n",
    "# total_duration_aphasia = aphasia_filtered['duration'].sum()\n",
    "# total_duration_control = control_filtered['duration'].sum()\n",
    "\n",
    "# total_duration_aphasia_minutes = total_duration_aphasia / 60000\n",
    "# total_duration_control_minutes = total_duration_control / 60000\n",
    "\n",
    "# print(f\"Total duration in aphasia dataset: {total_duration_aphasia_minutes:.2f} minutes\")\n",
    "# print(f\"Total duration in control dataset: {total_duration_control_minutes:.2f} minutes\")\n",
    "\n",
    "# combined_total_minutes = total_duration_aphasia_minutes + total_duration_control_minutes\n",
    "# print(f\"Combined total duration: {combined_total_minutes:.2f} minutes\")\n",
    "\n",
    "# aphasia_filtered.to_csv(f'../../data/aphasia_nounk_over3_{current_date}.csv', index=False)\n",
    "# control_filtered.to_csv(f'../../data/control_nounk_over3_{current_date}.csv', index=False)"
   ]
  },
  {
   "cell_type": "code",
   "execution_count": 9,
   "id": "b621b2cf-6f9b-410e-89ec-b2e18cef2cc8",
   "metadata": {},
   "outputs": [
    {
     "data": {
      "image/png": "[encoded data removed]",
      "text/plain": [
       "<Figure size 1200x600 with 1 Axes>"
      ]
     },
     "metadata": {},
     "output_type": "display_data"
    }
   ],
   "source": [
    "import matplotlib.pyplot as plt\n",
    "import seaborn as sns\n",
    "\n",
    "plt.figure(figsize=(12, 6))\n",
    "\n",
    "sns.histplot(aphasia_filtered['duration'], color=\"blue\", label=\"Aphasia\", kde=True, bins=50, alpha=0.5)\n",
    "sns.histplot(control_filtered['duration'], color=\"green\", label=\"Control\", kde=True, bins=50, alpha=0.5)\n",
    "\n",
    "plt.xlabel('Duration (ms)')\n",
    "plt.ylabel('Number of snippets')\n",
    "plt.title('Distribution of Durations')\n",
    "plt.legend()\n",
    "plt.grid(True, which='both', linestyle='--', linewidth=0.5)\n",
    "plt.tight_layout()\n",
    "\n",
    "plt.show()"
   ]
  },
  {
   "cell_type": "markdown",
   "id": "cc948572-efc9-4bc0-8e64-9e7d6920ad8c",
   "metadata": {},
   "source": [
    "## 6. Convert all files to `.wav` format. ###\n",
    "\n",
    "This part is run on a remote server.\n",
    "\n",
    "**linux command**\n",
    "\n",
    "`for i in *.mp4; do ffmpeg -i \"$i\" -ac 1 -f wav \"${i%.*}.wav\"; done`\n",
    "\n",
    "`for file in *.wav; do temp_file=\"${file%.wav}_temp.wav\" ffmpeg -i \"$file\" -ar 44100 -acodec pcm_s16le \"$temp_file\" && mv \"$temp_file\" \"$file\"; done`\n"
   ]
  },
  {
   "cell_type": "markdown",
   "id": "fd58fec0-3751-43b5-9a38-52c626031d36",
   "metadata": {},
   "source": [
    "## 7. Segment original audio interviews into snippet files according to `aphasia/control_nounk_over3.csv`. ###\n",
    "\n",
    "This part is run on a remote server."
   ]
  },
  {
   "cell_type": "code",
   "execution_count": null,
   "id": "20b17f5f-5339-47a1-b4e6-e6bd16a6e13c",
   "metadata": {},
   "outputs": [],
   "source": [
    "import os\n",
    "import pandas as pd\n",
    "from pydub import AudioSegment\n",
    "\n",
    "def segment_audio_from_csv(directory_path, out_directory, csv_file):\n",
    "\n",
    "    if not os.path.exists(out_directory):\n",
    "        os.makedirs(out_directory)\n",
    "\n",
    "    df = pd.read_csv(csv_file)\n",
    "\n",
    "    print(f\"Processing audio files from {directory_path}...\")\n",
    "\n",
    "    for index, row in df.iterrows():\n",
    "        filename = row[\"filename\"]\n",
    "        file_id = filename.split('.')[0]\n",
    "        start_time = row[\"start_time\"]\n",
    "        end_time = row[\"end_time\"]\n",
    "        segment_name = row[\"segment_name\"]\n",
    "        \n",
    "        print(segment_name)\n",
    "        audio_file_path = os.path.join(directory_path, file_id) + '.wav'\n",
    "        audio = AudioSegment.from_file(audio_file_path)\n",
    "        \n",
    "        audio_segment = audio[start_time:end_time]\n",
    "\n",
    "        new_file_path = os.path.join(out_directory, f\"{segment_name}.wav\")\n",
    "        audio_segment.export(new_file_path, format=\"wav\")\n",
    "\n",
    "    print(f\"Processing for {directory_path} complete!\")"
   ]
  },
  {
   "cell_type": "code",
   "execution_count": null,
   "id": "bc8e6517-c79e-4cae-a0b6-4428e05c8766",
   "metadata": {},
   "outputs": [],
   "source": [
    "segment_audio_from_csv('Aphasia_audio/', 'Aphasia_segment/', f'aphasia_nounk_over3_{current_date}.csv')\n",
    "segment_audio_from_csv('Control_audio/', 'Control_semgnet/', f'control_nounk_over3_{current_date}.csv')"
   ]
  },
  {
   "cell_type": "code",
   "execution_count": null,
   "id": "14e6aad2-76dc-49d0-aa4e-7fb2808be1b5",
   "metadata": {},
   "outputs": [],
   "source": []
  }
 ],
 "metadata": {
  "kernelspec": {
   "display_name": "Python 3 (ipykernel)",
   "language": "python",
   "name": "python3"
  },
  "language_info": {
   "codemirror_mode": {
    "name": "ipython",
    "version": 3
   },
   "file_extension": ".py",
   "mimetype": "text/x-python",
   "name": "python",
   "nbconvert_exporter": "python",
   "pygments_lexer": "ipython3",
   "version": "3.10.9"
  }
 },
 "nbformat": 4,
 "nbformat_minor": 5
}
